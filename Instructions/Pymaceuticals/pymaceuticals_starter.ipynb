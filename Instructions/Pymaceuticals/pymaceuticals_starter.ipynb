{
 "cells": [
  {
   "cell_type": "markdown",
   "metadata": {},
   "source": [
    "# Observations and Insights \n",
    "\n",
    "## Write here\n",
    "\n",
    "Look across all previously generated figures and tables and write at least three observations or inferences that can be made from the data. Include these observations at the top of notebook."
   ]
  },
  {
   "cell_type": "code",
   "execution_count": null,
   "metadata": {},
   "outputs": [],
   "source": [
    "# %matplotlib widget"
   ]
  },
  {
   "cell_type": "code",
   "execution_count": null,
   "metadata": {},
   "outputs": [],
   "source": [
    "# Dependencies and Setup\n",
    "import matplotlib.pyplot as plt\n",
    "import pandas as pd\n",
    "import scipy.stats as st\n",
    "import numpy as np\n",
    "\n",
    "# Automatically set Data Frames to 2 decimal places\n",
    "pd.options.display.precision = 2\n",
    "\n",
    "# Hide warning messages in notebook\n",
    "import warnings\n",
    "warnings.filterwarnings('ignore')\n",
    "\n",
    "# Study data files\n",
    "mouse_metadata_path = \"data/Mouse_metadata.csv\"\n",
    "study_results_path = \"data/Study_results.csv\"\n",
    "\n",
    "# Read the mouse data and the study results\n",
    "mouse_metadata = pd.read_csv(mouse_metadata_path)\n",
    "study_results = pd.read_csv(study_results_path)\n",
    "\n",
    "# Combine the data into a single dataset\n",
    "merge_data = pd.merge(study_results, mouse_metadata, on = ['Mouse ID'], how = 'outer')\n",
    "# Display the data table for preview\n",
    "merge_data.head()"
   ]
  },
  {
   "cell_type": "code",
   "execution_count": null,
   "metadata": {},
   "outputs": [],
   "source": [
    "# Checking the number of mice.\n",
    "mice = merge_data[\"Mouse ID\"].nunique()\n",
    "mice"
   ]
  },
  {
   "cell_type": "code",
   "execution_count": null,
   "metadata": {},
   "outputs": [],
   "source": [
    "# Getting the duplicate mice by ID number that shows up for Mouse ID and Timepoint. \n",
    "duplicates = merge_data[merge_data.duplicated([\"Mouse ID\", \"Timepoint\"])]\n",
    "duplicates"
   ]
  },
  {
   "cell_type": "code",
   "execution_count": null,
   "metadata": {},
   "outputs": [],
   "source": [
    "# Optional: Get all the data for the duplicate mouse ID. \n",
    "duplicate_data = duplicates[\"Mouse ID\"].unique()\n",
    "duplicate_data"
   ]
  },
  {
   "cell_type": "code",
   "execution_count": null,
   "metadata": {},
   "outputs": [],
   "source": [
    "# Create a clean DataFrame by dropping the duplicate mouse by its ID.\n",
    "clean_df = merge_data.loc[merge_data[\"Mouse ID\"]!= \"g989\"]\n",
    "clean_df.head(20)"
   ]
  },
  {
   "cell_type": "code",
   "execution_count": null,
   "metadata": {},
   "outputs": [],
   "source": [
    "# Checking the number of mice in the clean DataFrame.\n",
    "clean_mice = clean_df[\"Mouse ID\"].nunique()\n",
    "clean_mice"
   ]
  },
  {
   "cell_type": "markdown",
   "metadata": {},
   "source": [
    "## Summary Statistics"
   ]
  },
  {
   "cell_type": "code",
   "execution_count": null,
   "metadata": {},
   "outputs": [],
   "source": [
    "# Generate a summary statistics table of mean, median, variance, standard deviation, and SEM of the tumor volume for each regimen\n",
    "\n",
    "# Create a Data Frame, by using the groupby function and then carrying out calculations by aggregation on the \"Tumor Volume (mm3)\" column\n",
    "drug_regimen = clean_df.groupby(\"Drug Regimen\").agg(\n",
    "            Mean =(\"Tumor Volume (mm3)\", np.mean),\n",
    "            Median =(\"Tumor Volume (mm3)\", np.median),\n",
    "            Variance =(\"Tumor Volume (mm3)\", np.var),\n",
    "            Standard_Deviation =(\"Tumor Volume (mm3)\", np.std),\n",
    "            SEM =(\"Tumor Volume (mm3)\", st.sem))\n",
    "        \n",
    "# Display the Data Frame\n",
    "drug_regimen"
   ]
  },
  {
   "cell_type": "markdown",
   "metadata": {},
   "source": [
    "## Bar and Pie Charts"
   ]
  },
  {
   "cell_type": "code",
   "execution_count": null,
   "metadata": {},
   "outputs": [],
   "source": [
    "# Generate a bar plot showing the total number of mice for each treatment throughout the course of the study using pandas. \n",
    "\n",
    "# Group the data frame \"clean_df\", by \"Drug Regimen\" and then count the total number of mice for each \"Drug Regimen\"\n",
    "treatment_mice = clean_df.groupby(\"Drug Regimen\")\n",
    "count_mice = treatment_mice[\"Mouse ID\"].count()\n",
    "\n",
    "# Create a bar chart based off the group by series \"Drug Regimen\"\n",
    "mice_chart = count_mice.plot(kind=\"bar\", title=\"Total Number of Mice Per Treatment (Pandas)\")\n",
    "\n",
    "# Set the x and y labels\n",
    "mice_chart.set_xlabel(\"Drug Regimen\")\n",
    "mice_chart.set_ylabel(\"Number of Mice\")\n",
    "\n",
    "# Show the plot, give it a tight layout and save\n",
    "plt.tight_layout()\n",
    "plt.savefig(\"Images/Total_Mice_Treatment_(Pandas).png\")\n",
    "plt.show();"
   ]
  },
  {
   "cell_type": "code",
   "execution_count": null,
   "metadata": {},
   "outputs": [],
   "source": [
    "# Generate a bar plot showing the total number of mice for each treatment throughout the course of the study using pyplot.\n",
    "drug_regimen = clean_df[\"Drug Regimen\"].unique()\n",
    "py_mice = treatment_mice[\"Mouse ID\"].count()\n",
    "\n",
    "# Set x axis and tick locations \n",
    "x_axis = np.arange(len(drug_regimen))\n",
    "tick_locations = [value for value in x_axis]\n",
    "\n",
    "# Tell matplotlib that we will be making a bar chart\n",
    "# Drug Regimen is our x axis and Number of Mice is our  axis\n",
    "plt.bar(drug_regimen, py_mice, color='steelblue', align=\"center\", width = 0.5)\n",
    "    \n",
    "# Place each of our x axis headers \n",
    "plt.xticks(tick_locations, drug_regimen, rotation=\"vertical\")\n",
    "    \n",
    "# Set x and y limits\n",
    "# plt.xlim(-0.25, len(drug_regimen))\n",
    "plt.ylim(0, 240)\n",
    "\n",
    "         \n",
    "# Set a Title and x and y labels \n",
    "plt.title(\"Total Number of Mice Per Treatment (Pyplot)\")\n",
    "plt.xlabel(\"Drug Regimen\")\n",
    "plt.ylabel(\"Number of Mice\")\n",
    "\n",
    "# Show the plot, give it a tight layout and save\n",
    "plt.tight_layout()\n",
    "plt.savefig(\"Images/Total_Mice_Treatment_(Pyplot).png\")"
   ]
  },
  {
   "cell_type": "code",
   "execution_count": null,
   "metadata": {},
   "outputs": [],
   "source": [
    "# Generate a pie plot showing the distribution of female versus male mice using pandas\n",
    "\n",
    "# Group the data frame \"clean_df\", by \"Sex\" and then count the total number of mice for each \"Sex\"\n",
    "mice_sex = clean_df.groupby(\"Sex\")\n",
    "count_sex = mice_sex[\"Mouse ID\"].count()\n",
    "\n",
    "# Create a pie chart based off the group by series \"Sex\"\n",
    "mice_pie = count_sex.plot(kind=\"pie\", startangle = 90, autopct='%1.1f%%', title=\"Distribution of Female versus Male Mice (Pandas)\")\n",
    "\n",
    "# Set y labels\n",
    "mice_pie.set_ylabel(\"\")\n",
    "\n",
    "\n",
    "# Show the plot, give it a tight layout and save\n",
    "plt.tight_layout()\n",
    "plt.savefig(\"Images/Distribution_of_Female_versus_Male_Mice_(Pandas).png\")\n",
    "plt.show();"
   ]
  },
  {
   "cell_type": "code",
   "execution_count": null,
   "metadata": {},
   "outputs": [],
   "source": [
    "# Generate a pie plot showing the distribution of female versus male mice using pyplot\n",
    "# Create labels for the pie plot\n",
    "\n",
    "gender = clean_df[\"Sex\"].unique()\n",
    "gender_count = mice_sex[\"Mouse ID\"].count()\n",
    "\n",
    "# Choose colours for each of the sections within the pie plot\n",
    "colors = [\"steelblue\",\"darkorange\"]\n",
    "\n",
    "# Tell matplotlib to create a pie chart based upon the above data\n",
    "plt.pie(gender_count, labels=gender, colors=colors, autopct=\"%1.1f%%\", startangle=90)\n",
    "\n",
    "# Add a title\n",
    "plt.title(\"Distribution of Female versus Male Mice (Pyplot)\")\n",
    "\n",
    "# Create axes which are equal so we have a perfect circle\n",
    "plt.axis(\"equal\");\n",
    "plt.tight_layout()\n",
    "plt.savefig(\"Images/Distribution_of_Female_versus_Male_Mice_(Pyplot).png\")"
   ]
  },
  {
   "cell_type": "markdown",
   "metadata": {},
   "source": [
    "## Quartiles, Outliers and Boxplots"
   ]
  },
  {
   "cell_type": "code",
   "execution_count": null,
   "metadata": {},
   "outputs": [],
   "source": [
    "# Calculate the final tumor volume of each mouse across four of the most promising treatment regimens:  \n",
    "# Capomulin, Ramicane, Infubinol, and Ceftamin\n",
    "\n",
    "# Start by getting the last (greatest) timepoint for each mouse by sorting the dataframe in decending order, to have the greatest value first; then dropping any remaining duplicates\n",
    "sorted_df = clean_df.sort_values(\"Timepoint\", ascending=False)\n",
    "\n",
    "# Drop duplicates to remove additional timepoints for each mouse\n",
    "cleaned_df = sorted_df.drop_duplicates(subset=\"Mouse ID\", keep=\"first\")\n",
    "\n",
    "# Remove any treatments which we don't want to see\n",
    "df_1 = cleaned_df.loc[cleaned_df[\"Drug Regimen\"]!= \"Ketapril\"]\n",
    "df_2 = df_1.loc[df_1[\"Drug Regimen\"]!= \"Naftisol\"]\n",
    "df_3 = df_2.loc[df_2[\"Drug Regimen\"]!= \"Stelasyn\"]\n",
    "df_4 = df_3.loc[df_3[\"Drug Regimen\"]!= \"Zoniferol\"]\n",
    "df_5 = df_4.loc[df_3[\"Drug Regimen\"]!= \"Propriva\"]\n",
    "final_clean = df_5.loc[df_3[\"Drug Regimen\"]!= \"Placebo\"]\n",
    "\n",
    "\n",
    "### I feel I have gotten the intended result without merging \n",
    "# Merge this group df with the original dataframe to get the tumor volume at the last timepoint\n",
    "final_clean"
   ]
  },
  {
   "cell_type": "code",
   "execution_count": null,
   "metadata": {},
   "outputs": [],
   "source": [
    "# Put treatments into a list for for loop (and later for plot labels)\n",
    "# Create a list of all 4 treatments \n",
    "treatment_list = [\"Capomulin\", \"Ramicane\", \"Infubinol\", \"Ceftamin\"]\n",
    "\n",
    "\n",
    "# Create empty list(s) to fill with tumor vol data (for plotting)\n",
    "tumor_vol_list = []\n",
    "\n",
    "\n",
    "# Calculate the IQR and quantitatively determine if there are any potential outliers. \n",
    "for drug in treatment_list:\n",
    "    \n",
    "    # Locate the rows which contain mice on each drug and get the tumor volumes\n",
    "    tumor_vol = final_clean.loc[final_clean[\"Drug Regimen\"] == drug, \"Tumor Volume (mm3)\"]\n",
    "\n",
    "    # Append tumor volumes to tumor list\n",
    "    tumor_vol_list.append(tumor_vol)\n",
    "\n",
    "    # Put the data back into a data frame to use within an if statement\n",
    "    tumor_df = pd.DataFrame(tumor_vol,columns=[\"Tumor Volume (mm3)\"])\n",
    "    \n",
    "    # Determine outliers using upper and lower bounds\n",
    "    # Calculate the quartiles and IQR for each treatment, and quantitatively determine if there are any potential outliers across all four treatment regimens.\n",
    "    quartiles = tumor_vol.quantile([0.25,0.5,0.75])\n",
    "    lowerq = quartiles[0.25]\n",
    "    upperq = quartiles[0.75]\n",
    "    iqr = upperq-lowerq\n",
    "    \n",
    "    # Determine upper and lower bounds\n",
    "    lower_bound = lowerq - (1.5*iqr)\n",
    "    upper_bound = upperq + (1.5*iqr)\n",
    "\n",
    "    # Print out the calculations in a readable format\n",
    "    print(\"\\n\\n\")\n",
    "    print(f\"Treatment Type: {drug}\")\n",
    "    print(\"--------------------------\")\n",
    "    print(f\"The lower quartile of tumor volume is: {lowerq}\")\n",
    "    print(f\"The upper quartile of tumor volume is: {upperq}\")\n",
    "    print(f\"The interquartile range of tumor volume is: {iqr}\")\n",
    "    print(f\"The the median of tumor volume is: {quartiles[0.5]} \")\n",
    "    print(f\"Values below {lower_bound} could be outliers for tumor volume.\")\n",
    "    print(f\"Values above {upper_bound} could be outliers for tumor volume.\")\n",
    "    \n",
    "\n",
    "    # Determine the outliers using the upper and lower bounds\n",
    "    outliers = tumor_df.loc[(tumor_df[\"Tumor Volume (mm3)\"] < lower_bound) | (tumor_df[\"Tumor Volume (mm3)\"] > upper_bound)]\n",
    "    \n",
    "    if outliers.empty: \n",
    "        print(f\"\\nThere are no outliers for {drug} in the data.\")\n",
    "\n",
    "    # If there are outliers, display a data frame containing all of the outliers for the treatment (drug) type\n",
    "    else:\n",
    "        print(f\"\\nThe following are outliers for {drug} in the data: \\n\")\n",
    "        display(outliers)\n",
    "        \n",
    "        \n",
    "    print(\"--------------------------------------------------------------------\\n\")\n"
   ]
  },
  {
   "cell_type": "code",
   "execution_count": null,
   "metadata": {},
   "outputs": [],
   "source": [
    "# Generate a box plot of the final tumor volume of each mouse across four regimens of interest\n",
    "\n",
    "# Set properties for any outliers\n",
    "outliers = dict(markerfacecolor = \"red\", markersize = 10)\n",
    "\n",
    "# Plot box plot with infomration from the tumor volume list, including drug names as labels for each plot, and assign the outlier properties\n",
    "plt.boxplot(tumor_vol_list, flierprops=outliers, labels = treatment_list)\n",
    "\n",
    "# Give the plot a title and y label\n",
    "plt.title(\"Mouse Final Tumor Volume of Capomulin, Ramicane, Infubinol, Ceftamin\")\n",
    "plt.ylabel(\"Final Tumor Volume (mm3)\")\n",
    "plt.savefig(\"Images/Mouse_Final_Tumor_Volume_of_Capomulin_Ramicane_Infubinol_Ceftamin.png\");\n",
    "plt.tight_layout()\n",
    "plt.show();"
   ]
  },
  {
   "cell_type": "markdown",
   "metadata": {},
   "source": [
    "## Line and Scatter Plots"
   ]
  },
  {
   "cell_type": "code",
   "execution_count": null,
   "metadata": {},
   "outputs": [],
   "source": [
    "# Generate a line plot of time point versus tumor volume for a mouse treated with Capomulin\n",
    "# Create a new data frame with only the drug we want to see \n",
    "capo_mice_df = clean_df.loc[clean_df[\"Drug Regimen\"]==\"Capomulin\",:]\n",
    "\n",
    "# Select the mouse we want to plot\n",
    "new_capo_mice_df = capo_mice_df.loc[capo_mice_df[\"Mouse ID\"]==\"x401\"]\n",
    "\n",
    "# Plot a line graph showing tumor volume over time\n",
    "new_capo_mice_df.set_index(\"Tumor Volume (mm3)\")[\"Timepoint\"].plot();\n",
    "\n",
    "# Set x and y labels and create a legend \n",
    "plt.ylabel(\"Timepoint\")\n",
    "\n",
    "# Add a title \n",
    "plt.title(\"Tumor Volume (mm3) vs Time for Mouse x401 treated with Capomulin\")\n",
    "\n",
    "# Save image\n",
    "plt.tight_layout()\n",
    "plt.savefig(\"Images/Tumor_Volume_(mm3)_vs_Time_for_Mouse_x401_treated_with_Capomulin.png\");"
   ]
  },
  {
   "cell_type": "code",
   "execution_count": null,
   "metadata": {},
   "outputs": [],
   "source": [
    "# Generate a scatter plot of mouse weight versus average tumor volume for the Capomulin regimen\n",
    "# Create a new data frame with only the drug Capomulin\n",
    "scatter_df = clean_df.loc[clean_df[\"Drug Regimen\"]==\"Capomulin\",:]\n",
    "\n",
    "# Calculate the average weight and tumor volume per mouse\n",
    "weight = scatter_df.groupby([\"Mouse ID\"]).mean()[\"Weight (g)\"]\n",
    "tumor = scatter_df.groupby([\"Mouse ID\"]).mean()[\"Tumor Volume (mm3)\"]\n",
    "\n",
    "# Plot a scatter using subplots\n",
    "fig, weightvtumor = plt.subplots()\n",
    "weightvtumor.scatter(weight, tumor)\n",
    "\n",
    "# Set title, x label and y label\n",
    "weightvtumor.set_title(\"Weight vs Average Tumor Volume\");\n",
    "weightvtumor.set_xlabel(\"Weight (g)\");\n",
    "weightvtumor.set_ylabel(\"Average Tumor Volume (mm3)\");\n",
    "\n",
    "# Save image\n",
    "plt.tight_layout()\n",
    "plt.savefig(\"Images/Weight_vs_Average_Tumor_Volume.png\")"
   ]
  },
  {
   "cell_type": "markdown",
   "metadata": {},
   "source": [
    "## Correlation and Regression"
   ]
  },
  {
   "cell_type": "code",
   "execution_count": null,
   "metadata": {},
   "outputs": [],
   "source": [
    "# Calculate the correlation coefficient and linear regression model \n",
    "# for mouse weight and average tumor volume for the Capomulin regimen\n",
    "\n",
    "# Use dataframe and variables from above scatter plot \n",
    "\n",
    "# Calculate the linear regression\n",
    "(slope, intercept,r_value,p_value,std_err) = st.linregress(weight,tumor)\n",
    "regress_values = weight * slope + intercept\n",
    "\n",
    "# Calculate and print correlation factor\n",
    "correlation = st.pearsonr(weight, tumor)\n",
    "print(f\"\\nThe correlation between Mouse Weight and Average Tumor Volume is {round(correlation[0],2)}\\n\")\n",
    "correlation_annotation1 = \"The correlation between Mouse Weight\"\n",
    "correlation_annotation2 = \"and Average Tumor Volume is 0.84\"\n",
    "\n",
    "# Plot a scatter \n",
    "plt.scatter(weight,tumor);\n",
    "\n",
    "# Plot linear model on top of the scatter plot\n",
    "plt.plot(weight,regress_values,\"red\");\n",
    "line_annotation = \"y = \" + str(round(slope,2)) + \"x + \" + str(round(intercept,2))\n",
    "\n",
    "# Set title, x label and y label\n",
    "plt.title(\"Weight vs Average Tumor Volume\");\n",
    "plt.ylabel(\"Average Tumor Volume (mm3)\");\n",
    "plt.xlabel(\"Weight (g)\");\n",
    "plt.annotate(line_annotation,(15,45),fontsize = 14, color=\"red\");\n",
    "plt.annotate(correlation_annotation1, (18.5,36))\n",
    "plt.annotate(correlation_annotation2, (18.9,35))\n",
    "\n",
    "# Save image\n",
    "plt.tight_layout()\n",
    "plt.savefig(\"Images/Weight_vs_Average_Tumor_Volume_Correlation.png\")\n",
    "plt.show()"
   ]
  }
 ],
 "metadata": {
  "anaconda-cloud": {},
  "kernelspec": {
   "display_name": "Python 3",
   "language": "python",
   "name": "python3"
  },
  "language_info": {
   "codemirror_mode": {
    "name": "ipython",
    "version": 3
   },
   "file_extension": ".py",
   "mimetype": "text/x-python",
   "name": "python",
   "nbconvert_exporter": "python",
   "pygments_lexer": "ipython3",
   "version": "3.7.6"
  }
 },
 "nbformat": 4,
 "nbformat_minor": 4
}
